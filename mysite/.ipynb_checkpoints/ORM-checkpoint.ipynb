{
 "cells": [
  {
   "cell_type": "code",
   "execution_count": 1,
   "metadata": {
    "ExecuteTime": {
     "end_time": "2020-02-20T08:15:30.296676Z",
     "start_time": "2020-02-20T08:15:30.293735Z"
    }
   },
   "outputs": [],
   "source": [
    "from myboard import models"
   ]
  },
  {
   "cell_type": "code",
   "execution_count": 2,
   "metadata": {
    "ExecuteTime": {
     "end_time": "2020-02-20T08:15:30.306649Z",
     "start_time": "2020-02-20T08:15:30.297673Z"
    }
   },
   "outputs": [
    {
     "name": "stdout",
     "output_type": "stream",
     "text": [
      "<QuerySet [<Board: 아침메뉴>, <Board: 점심메뉴>, <Board: 저녁메뉴>]>\n"
     ]
    }
   ],
   "source": [
    "datas = models.Board.objects.all().filter(category='common')\n",
    "print(datas)"
   ]
  },
  {
   "cell_type": "code",
   "execution_count": 3,
   "metadata": {
    "ExecuteTime": {
     "end_time": "2020-02-20T08:15:30.312634Z",
     "start_time": "2020-02-20T08:15:30.307647Z"
    }
   },
   "outputs": [
    {
     "name": "stdout",
     "output_type": "stream",
     "text": [
      "<QuerySet [<Board: 아침메뉴>, <Board: 점심메뉴>, <Board: 저녁메뉴>]>\n"
     ]
    }
   ],
   "source": [
    "page = 1\n",
    "subs = datas[(page-1)*3:(page)*3]\n",
    "print(subs)"
   ]
  },
  {
   "cell_type": "code",
   "execution_count": 4,
   "metadata": {
    "ExecuteTime": {
     "end_time": "2020-02-20T08:15:30.320611Z",
     "start_time": "2020-02-20T08:15:30.314628Z"
    }
   },
   "outputs": [
    {
     "name": "stdout",
     "output_type": "stream",
     "text": [
      "[{'pk': 1, 'title': '아침메뉴', 'cnt': 0}, {'pk': 2, 'title': '점심메뉴', 'cnt': 0}, {'pk': 3, 'title': '저녁메뉴', 'cnt': 0}]\n"
     ]
    }
   ],
   "source": [
    "datas = []\n",
    "for data in subs:\n",
    "    #print({\"pk\":data.pk, \"title\":data.title, \"cnt\":data.cnt})\n",
    "    datas.append({\"pk\":data.pk, \"title\":data.title, \"cnt\":data.cnt})\n",
    "print(datas)\n",
    "datas = {\"datas\":datas}"
   ]
  },
  {
   "cell_type": "code",
   "execution_count": 5,
   "metadata": {
    "ExecuteTime": {
     "end_time": "2020-02-20T08:15:30.325603Z",
     "start_time": "2020-02-20T08:15:30.321609Z"
    }
   },
   "outputs": [
    {
     "name": "stdout",
     "output_type": "stream",
     "text": [
      "{'datas': [{'pk': 1, 'title': '아침메뉴', 'cnt': 0}, {'pk': 2, 'title': '점심메뉴', 'cnt': 0}, {'pk': 3, 'title': '저녁메뉴', 'cnt': 0}]}\n"
     ]
    }
   ],
   "source": [
    "datas = {'datas': [ {\"pk\":data.pk, \"title\":data.title, \"cnt\":data.cnt} for data in subs]}\n",
    "print(datas)"
   ]
  },
  {
   "cell_type": "code",
   "execution_count": 6,
   "metadata": {
    "ExecuteTime": {
     "end_time": "2020-02-20T08:15:31.147913Z",
     "start_time": "2020-02-20T08:15:30.326596Z"
    }
   },
   "outputs": [],
   "source": [
    "from django.test import RequestFactory\n",
    "import requests\n",
    "import json\n",
    "\n",
    "rf = RequestFactory()"
   ]
  },
  {
   "cell_type": "code",
   "execution_count": 7,
   "metadata": {
    "ExecuteTime": {
     "end_time": "2020-02-20T08:15:31.153965Z",
     "start_time": "2020-02-20T08:15:31.147913Z"
    }
   },
   "outputs": [],
   "source": [
    "def page(request):\n",
    "    datas = [{\"id\":1, \"name\":\"홍길동1\"},\n",
    "             {\"id\":2, \"name\":\"홍길동2\"},\n",
    "             {\"id\":3, \"name\":\"홍길동3\"},\n",
    "             {\"id\":4, \"name\":\"홍길동4\"},\n",
    "             {\"id\":5, \"name\":\"홍길동5\"},\n",
    "             {\"id\":6, \"name\":\"홍길동6\"},\n",
    "             {\"id\":7, \"name\":\"홍길동7\"},\n",
    "             ]  \n",
    "\n",
    "    page = request.GET.get(\"page\", 1)    \n",
    "    #(page-1)*3:page*3\n",
    "\n",
    "    #첫번째 파라미터는 데이터, 두번째 파라미터는 한페이지에 보여줄 데이터의 개수\n",
    "    p = Paginator(datas, 3)\n",
    "\n",
    "    #전체 데이터 중 일부 데이터만 subs에 저장, p.page(1)은 123만, p.page(2)는 456만 보여주는것을 확인할 수 있다.    \n",
    "    subs = p.page(page)\n",
    "\n",
    "    #return render(request, \"myboard/page.html\", {\"datas\":datas})\n",
    "    return render(request, \"myboard/page.html\", {\"datas\":subs})"
   ]
  }
 ],
 "metadata": {
  "kernelspec": {
   "display_name": "Django Shell-Plus",
   "language": "python",
   "name": "django_extensions"
  },
  "language_info": {
   "codemirror_mode": {
    "name": "ipython",
    "version": 3
   },
   "file_extension": ".py",
   "mimetype": "text/x-python",
   "name": "python",
   "nbconvert_exporter": "python",
   "pygments_lexer": "ipython3",
   "version": "3.6.10"
  }
 },
 "nbformat": 4,
 "nbformat_minor": 4
}
