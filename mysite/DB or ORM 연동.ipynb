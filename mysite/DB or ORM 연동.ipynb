{
 "cells": [
  {
   "cell_type": "code",
   "execution_count": 1,
   "metadata": {
    "ExecuteTime": {
     "end_time": "2020-02-17T07:34:49.782694Z",
     "start_time": "2020-02-17T07:34:49.778710Z"
    }
   },
   "outputs": [],
   "source": [
    "from myapp.models import User"
   ]
  },
  {
   "cell_type": "code",
   "execution_count": 2,
   "metadata": {
    "ExecuteTime": {
     "end_time": "2020-02-17T07:34:49.807575Z",
     "start_time": "2020-02-17T07:34:49.783639Z"
    }
   },
   "outputs": [
    {
     "name": "stdout",
     "output_type": "stream",
     "text": [
      "kim/김유신/50\n",
      "hong/홍길동/40\n"
     ]
    }
   ],
   "source": [
    "data = User.objects.all()\n",
    "for d in data:\n",
    "    print(d)"
   ]
  },
  {
   "cell_type": "code",
   "execution_count": 3,
   "metadata": {
    "ExecuteTime": {
     "end_time": "2020-02-17T07:34:49.811586Z",
     "start_time": "2020-02-17T07:34:49.808595Z"
    }
   },
   "outputs": [],
   "source": [
    "#return type은 queryset, 모든 객체를 가져온다.\n",
    "#전체 레코드를 반환\n",
    "#objects.all()\n",
    "\n",
    "#레코드를 하나 추가, insert함수 같은것\n",
    "#objects.create():\n",
    "\n",
    "#체인 룰 필터한것의 필터한것의 또 필터한것, 연속 필터\n",
    "#커넥션 모듈을 통해 queryset으로 만들어진 실제 sql문을 shell에서 확인\n",
    "#objects.fileter(title_icontains='1').fileter(title_endwith='3')"
   ]
  },
  {
   "cell_type": "code",
   "execution_count": 4,
   "metadata": {
    "ExecuteTime": {
     "end_time": "2020-02-17T07:34:49.816612Z",
     "start_time": "2020-02-17T07:34:49.812560Z"
    }
   },
   "outputs": [
    {
     "name": "stdout",
     "output_type": "stream",
     "text": [
      "50\n",
      "김유신\n"
     ]
    }
   ],
   "source": [
    "#0번째 인덱스 사람의 나이와 이름\n",
    "print(data[0].age)\n",
    "print(data[0].name)"
   ]
  },
  {
   "cell_type": "code",
   "execution_count": 5,
   "metadata": {
    "ExecuteTime": {
     "end_time": "2020-02-17T07:34:49.822598Z",
     "start_time": "2020-02-17T07:34:49.817548Z"
    }
   },
   "outputs": [
    {
     "name": "stdout",
     "output_type": "stream",
     "text": [
      "kim/김유신/50\n"
     ]
    }
   ],
   "source": [
    "#전체 필터중에 나이가 40초과인 사람을 리턴\n",
    "for d in data:\n",
    "    if d.age > 40:\n",
    "        print(d)"
   ]
  },
  {
   "cell_type": "code",
   "execution_count": 6,
   "metadata": {
    "ExecuteTime": {
     "end_time": "2020-02-17T07:34:49.829515Z",
     "start_time": "2020-02-17T07:34:49.823532Z"
    }
   },
   "outputs": [
    {
     "name": "stdout",
     "output_type": "stream",
     "text": [
      "<QuerySet [<User: kim/김유신/50>]>\n",
      "<QuerySet [<User: kim/김유신/50>]>\n"
     ]
    }
   ],
   "source": [
    "#전체중에서 나이가 50인 사람만 리턴\n",
    "print(data.filter(age=50))\n",
    "\n",
    "#50보다 많으면?\n",
    "#print(data.filter(age>50))\n",
    "#이건 함수기 때문에, name = value로 주어야 한다.\n",
    "#따라서\n",
    "print(data.filter(age__gte=50))"
   ]
  },
  {
   "cell_type": "code",
   "execution_count": 7,
   "metadata": {
    "ExecuteTime": {
     "end_time": "2020-02-17T07:34:49.835528Z",
     "start_time": "2020-02-17T07:34:49.830513Z"
    }
   },
   "outputs": [
    {
     "name": "stdout",
     "output_type": "stream",
     "text": [
      "<QuerySet [<User: kim/김유신/50>]>\n",
      "<QuerySet [<User: kim/김유신/50>]>\n"
     ]
    }
   ],
   "source": [
    "#이름이 김유신이고, 나이가 50보다 큰\n",
    "print(data.filter(name='김유신', age__gte=50))\n",
    "#같은표현, 체인룰에 의한표현\n",
    "print(data.filter(name='김유신').filter(age__gte=50))"
   ]
  },
  {
   "cell_type": "code",
   "execution_count": 8,
   "metadata": {
    "ExecuteTime": {
     "end_time": "2020-02-17T07:34:49.845548Z",
     "start_time": "2020-02-17T07:34:49.837503Z"
    }
   },
   "outputs": [
    {
     "data": {
      "text/plain": [
       "<QuerySet [<User: kim/김유신/50>]>"
      ]
     },
     "execution_count": 8,
     "metadata": {},
     "output_type": "execute_result"
    }
   ],
   "source": [
    "#해당 이름을 포함하고 있으면\n",
    "data.filter(name__contains='김')"
   ]
  },
  {
   "cell_type": "code",
   "execution_count": 9,
   "metadata": {
    "ExecuteTime": {
     "end_time": "2020-02-17T07:34:49.852454Z",
     "start_time": "2020-02-17T07:34:49.846470Z"
    }
   },
   "outputs": [
    {
     "data": {
      "text/plain": [
       "<QuerySet [<User: kim/김유신/50>]>"
      ]
     },
     "execution_count": 9,
     "metadata": {},
     "output_type": "execute_result"
    }
   ],
   "source": [
    "#나이가 50보다 크거나, 이름에 '유'자가 포함\n",
    "#get은 1개일때만 가능, 나머지는 예외를 발생시킨다.\n",
    "data.filter(Q(age__gte=50)|Q(name__contains=\"유\"))"
   ]
  },
  {
   "cell_type": "code",
   "execution_count": 10,
   "metadata": {
    "ExecuteTime": {
     "end_time": "2020-02-17T07:34:49.857440Z",
     "start_time": "2020-02-17T07:34:49.853452Z"
    }
   },
   "outputs": [],
   "source": [
    "#update함수 : 함수에 업데이트할 속성값을 지정하여, 일괄 수정\n",
    "#queryset = Post.objects.all()"
   ]
  }
 ],
 "metadata": {
  "kernelspec": {
   "display_name": "Django Shell-Plus",
   "language": "python",
   "name": "django_extensions"
  },
  "language_info": {
   "codemirror_mode": {
    "name": "ipython",
    "version": 3
   },
   "file_extension": ".py",
   "mimetype": "text/x-python",
   "name": "python",
   "nbconvert_exporter": "python",
   "pygments_lexer": "ipython3",
   "version": "3.6.10"
  }
 },
 "nbformat": 4,
 "nbformat_minor": 4
}
